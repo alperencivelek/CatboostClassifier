{
 "cells": [
  {
   "cell_type": "code",
   "execution_count": 1,
   "id": "125e2a2b-a602-4df2-89db-35599622ed5b",
   "metadata": {
    "tags": []
   },
   "outputs": [],
   "source": [
    "import pandas as pd\n",
    "import numpy as np\n",
    "from sklearn.model_selection import train_test_split\n",
    "from catboost import CatBoostClassifier\n",
    "from sklearn.metrics import classification_report, accuracy_score, confusion_matrix\n",
    "from sklearn.model_selection import RandomizedSearchCV\n",
    "import joblib\n",
    "import warnings\n",
    "warnings.filterwarnings('ignore')"
   ]
  },
  {
   "cell_type": "markdown",
   "id": "e6722726",
   "metadata": {},
   "source": [
    "# Veriyi okuyalım"
   ]
  },
  {
   "cell_type": "code",
   "execution_count": 2,
   "id": "a5016749-946f-4b26-bc7b-4d8a2f522322",
   "metadata": {
    "tags": []
   },
   "outputs": [
    {
     "data": {
      "text/html": [
       "<div>\n",
       "<style scoped>\n",
       "    .dataframe tbody tr th:only-of-type {\n",
       "        vertical-align: middle;\n",
       "    }\n",
       "\n",
       "    .dataframe tbody tr th {\n",
       "        vertical-align: top;\n",
       "    }\n",
       "\n",
       "    .dataframe thead th {\n",
       "        text-align: right;\n",
       "    }\n",
       "</style>\n",
       "<table border=\"1\" class=\"dataframe\">\n",
       "  <thead>\n",
       "    <tr style=\"text-align: right;\">\n",
       "      <th></th>\n",
       "      <th>vhigh</th>\n",
       "      <th>vhigh.1</th>\n",
       "      <th>2</th>\n",
       "      <th>2.1</th>\n",
       "      <th>small</th>\n",
       "      <th>low</th>\n",
       "      <th>unacc</th>\n",
       "    </tr>\n",
       "  </thead>\n",
       "  <tbody>\n",
       "    <tr>\n",
       "      <th>0</th>\n",
       "      <td>vhigh</td>\n",
       "      <td>vhigh</td>\n",
       "      <td>2</td>\n",
       "      <td>2</td>\n",
       "      <td>small</td>\n",
       "      <td>med</td>\n",
       "      <td>unacc</td>\n",
       "    </tr>\n",
       "    <tr>\n",
       "      <th>1</th>\n",
       "      <td>vhigh</td>\n",
       "      <td>vhigh</td>\n",
       "      <td>2</td>\n",
       "      <td>?</td>\n",
       "      <td>small</td>\n",
       "      <td>high</td>\n",
       "      <td>unacc</td>\n",
       "    </tr>\n",
       "    <tr>\n",
       "      <th>2</th>\n",
       "      <td>vhigh</td>\n",
       "      <td>vhigh</td>\n",
       "      <td>2</td>\n",
       "      <td>2</td>\n",
       "      <td>med</td>\n",
       "      <td>low</td>\n",
       "      <td>unacc</td>\n",
       "    </tr>\n",
       "    <tr>\n",
       "      <th>3</th>\n",
       "      <td>vhigh</td>\n",
       "      <td>vhigh</td>\n",
       "      <td>2</td>\n",
       "      <td>2</td>\n",
       "      <td>med</td>\n",
       "      <td>?</td>\n",
       "      <td>unacc</td>\n",
       "    </tr>\n",
       "    <tr>\n",
       "      <th>4</th>\n",
       "      <td>vhigh</td>\n",
       "      <td>vhigh</td>\n",
       "      <td>2</td>\n",
       "      <td>2</td>\n",
       "      <td>med</td>\n",
       "      <td>high</td>\n",
       "      <td>unacc</td>\n",
       "    </tr>\n",
       "    <tr>\n",
       "      <th>...</th>\n",
       "      <td>...</td>\n",
       "      <td>...</td>\n",
       "      <td>...</td>\n",
       "      <td>...</td>\n",
       "      <td>...</td>\n",
       "      <td>...</td>\n",
       "      <td>...</td>\n",
       "    </tr>\n",
       "    <tr>\n",
       "      <th>1723</th>\n",
       "      <td>low</td>\n",
       "      <td>low</td>\n",
       "      <td>5more</td>\n",
       "      <td>more</td>\n",
       "      <td>med</td>\n",
       "      <td>high</td>\n",
       "      <td>vgood</td>\n",
       "    </tr>\n",
       "    <tr>\n",
       "      <th>1724</th>\n",
       "      <td>low</td>\n",
       "      <td>low</td>\n",
       "      <td>5more</td>\n",
       "      <td>more</td>\n",
       "      <td>big</td>\n",
       "      <td>low</td>\n",
       "      <td>unacc</td>\n",
       "    </tr>\n",
       "    <tr>\n",
       "      <th>1725</th>\n",
       "      <td>low</td>\n",
       "      <td>low</td>\n",
       "      <td>5more</td>\n",
       "      <td>more</td>\n",
       "      <td>big</td>\n",
       "      <td>med</td>\n",
       "      <td>good</td>\n",
       "    </tr>\n",
       "    <tr>\n",
       "      <th>1726</th>\n",
       "      <td>low</td>\n",
       "      <td>low</td>\n",
       "      <td>5more</td>\n",
       "      <td>more</td>\n",
       "      <td>big</td>\n",
       "      <td>high</td>\n",
       "      <td>vgood</td>\n",
       "    </tr>\n",
       "    <tr>\n",
       "      <th>1727</th>\n",
       "      <td>?</td>\n",
       "      <td>?</td>\n",
       "      <td>?</td>\n",
       "      <td>?</td>\n",
       "      <td>?</td>\n",
       "      <td>?</td>\n",
       "      <td>?</td>\n",
       "    </tr>\n",
       "  </tbody>\n",
       "</table>\n",
       "<p>1728 rows × 7 columns</p>\n",
       "</div>"
      ],
      "text/plain": [
       "      vhigh vhigh.1      2   2.1  small   low  unacc\n",
       "0     vhigh   vhigh      2     2  small   med  unacc\n",
       "1     vhigh   vhigh      2     ?  small  high  unacc\n",
       "2     vhigh   vhigh      2     2    med   low  unacc\n",
       "3     vhigh   vhigh      2     2    med     ?  unacc\n",
       "4     vhigh   vhigh      2     2    med  high  unacc\n",
       "...     ...     ...    ...   ...    ...   ...    ...\n",
       "1723    low     low  5more  more    med  high  vgood\n",
       "1724    low     low  5more  more    big   low  unacc\n",
       "1725    low     low  5more  more    big   med   good\n",
       "1726    low     low  5more  more    big  high  vgood\n",
       "1727      ?       ?      ?     ?      ?     ?      ?\n",
       "\n",
       "[1728 rows x 7 columns]"
      ]
     },
     "execution_count": 2,
     "metadata": {},
     "output_type": "execute_result"
    }
   ],
   "source": [
    "df=pd.read_csv('car_acceptability.txt')\n",
    "df"
   ]
  },
  {
   "cell_type": "markdown",
   "id": "2fc70104",
   "metadata": {},
   "source": [
    "# Sütun isimlerini anlamlı hale getirelim"
   ]
  },
  {
   "cell_type": "code",
   "execution_count": 3,
   "id": "39cb1262",
   "metadata": {},
   "outputs": [],
   "source": [
    "new_columns = [\"Buying_Cost\",\"Maintenance_Cost\",\"Door_Count\",\"Capacity(person)\",\"Lug_Boot_Size\",\"Safety\",\"Class\"]\n",
    "df.columns = new_columns"
   ]
  },
  {
   "cell_type": "code",
   "execution_count": 4,
   "id": "d714a93b-c9fe-43d4-a1a8-4ca533b01952",
   "metadata": {},
   "outputs": [
    {
     "name": "stdout",
     "output_type": "stream",
     "text": [
      "<class 'pandas.core.frame.DataFrame'>\n",
      "RangeIndex: 1728 entries, 0 to 1727\n",
      "Data columns (total 7 columns):\n",
      " #   Column            Non-Null Count  Dtype \n",
      "---  ------            --------------  ----- \n",
      " 0   Buying_Cost       1727 non-null   object\n",
      " 1   Maintenance_Cost  1728 non-null   object\n",
      " 2   Door_Count        1728 non-null   object\n",
      " 3   Capacity(person)  1728 non-null   object\n",
      " 4   Lug_Boot_Size     1728 non-null   object\n",
      " 5   Safety            1727 non-null   object\n",
      " 6   Class             1728 non-null   object\n",
      "dtypes: object(7)\n",
      "memory usage: 94.6+ KB\n"
     ]
    }
   ],
   "source": [
    "df.info()"
   ]
  },
  {
   "cell_type": "markdown",
   "id": "e35b8fd5",
   "metadata": {},
   "source": [
    "# Hatalı değer kontrolleri yapalım"
   ]
  },
  {
   "cell_type": "code",
   "execution_count": 5,
   "id": "6b3da99b-603b-402e-8cbf-d901c1ead56c",
   "metadata": {
    "tags": []
   },
   "outputs": [
    {
     "data": {
      "text/plain": [
       "high     432\n",
       "med      431\n",
       "low      430\n",
       "vhigh    429\n",
       "?          3\n",
       "-          1\n",
       "düsük      1\n",
       "Name: Buying_Cost, dtype: int64"
      ]
     },
     "execution_count": 5,
     "metadata": {},
     "output_type": "execute_result"
    }
   ],
   "source": [
    "df['Buying_Cost'].value_counts()"
   ]
  },
  {
   "cell_type": "code",
   "execution_count": 6,
   "id": "59d88bfc-e5a2-4cc7-9fee-87744bdd799f",
   "metadata": {
    "tags": []
   },
   "outputs": [
    {
     "data": {
      "text/plain": [
       "high     432\n",
       "med      431\n",
       "low      431\n",
       "vhigh    429\n",
       "?          4\n",
       "Name: Buying_Cost, dtype: int64"
      ]
     },
     "execution_count": 6,
     "metadata": {},
     "output_type": "execute_result"
    }
   ],
   "source": [
    "df['Buying_Cost'] = df['Buying_Cost'].replace('düsük', 'low')\n",
    "df['Buying_Cost'] = df['Buying_Cost'].replace('-', '?')\n",
    "df['Buying_Cost'].value_counts()"
   ]
  },
  {
   "cell_type": "code",
   "execution_count": 7,
   "id": "034a22fb",
   "metadata": {},
   "outputs": [
    {
     "data": {
      "text/plain": [
       "high     432\n",
       "med      432\n",
       "low      432\n",
       "vhigh    428\n",
       "?          4\n",
       "Name: Maintenance_Cost, dtype: int64"
      ]
     },
     "execution_count": 7,
     "metadata": {},
     "output_type": "execute_result"
    }
   ],
   "source": [
    "df['Maintenance_Cost'].value_counts()"
   ]
  },
  {
   "cell_type": "code",
   "execution_count": 8,
   "id": "ca84063b-ab0b-4b67-810a-b6e9b1b1841d",
   "metadata": {
    "tags": []
   },
   "outputs": [
    {
     "data": {
      "text/plain": [
       "3        432\n",
       "4        430\n",
       "5more    430\n",
       "2        429\n",
       "?          3\n",
       "-          1\n",
       "44         1\n",
       "iki        1\n",
       "5+         1\n",
       "Name: Door_Count, dtype: int64"
      ]
     },
     "execution_count": 8,
     "metadata": {},
     "output_type": "execute_result"
    }
   ],
   "source": [
    "df['Door_Count'].value_counts()"
   ]
  },
  {
   "cell_type": "code",
   "execution_count": 9,
   "id": "52a5df4b-3a47-42f1-846e-833228e18eca",
   "metadata": {
    "tags": []
   },
   "outputs": [
    {
     "data": {
      "text/plain": [
       "3        432\n",
       "4        431\n",
       "5more    431\n",
       "2        430\n",
       "?          4\n",
       "Name: Door_Count, dtype: int64"
      ]
     },
     "execution_count": 9,
     "metadata": {},
     "output_type": "execute_result"
    }
   ],
   "source": [
    "df['Door_Count'] = df['Door_Count'].replace('-', '?')\n",
    "df['Door_Count'] = df['Door_Count'].replace('44', '4')\n",
    "df['Door_Count'] = df['Door_Count'].replace('iki', '2')\n",
    "df['Door_Count'] = df['Door_Count'].replace('5+', '5more')\n",
    "df['Door_Count'].value_counts()"
   ]
  },
  {
   "cell_type": "code",
   "execution_count": 10,
   "id": "2a4f5ba4-8c69-414b-8e13-3fecb5b7a632",
   "metadata": {
    "tags": []
   },
   "outputs": [
    {
     "data": {
      "text/plain": [
       "4       576\n",
       "more    576\n",
       "2       573\n",
       "?         3\n",
       "Name: Capacity(person), dtype: int64"
      ]
     },
     "execution_count": 10,
     "metadata": {},
     "output_type": "execute_result"
    }
   ],
   "source": [
    "df['Capacity(person)'].value_counts()"
   ]
  },
  {
   "cell_type": "code",
   "execution_count": 11,
   "id": "f4f5cf7f-f2ca-4816-85b3-80e37f61ddb2",
   "metadata": {
    "tags": []
   },
   "outputs": [
    {
     "data": {
      "text/plain": [
       "big      576\n",
       "small    575\n",
       "med      575\n",
       "?          2\n",
       "Name: Lug_Boot_Size, dtype: int64"
      ]
     },
     "execution_count": 11,
     "metadata": {},
     "output_type": "execute_result"
    }
   ],
   "source": [
    "df['Lug_Boot_Size'].value_counts()"
   ]
  },
  {
   "cell_type": "code",
   "execution_count": 12,
   "id": "2aa20950-2c1d-4ea5-8f46-ce10d2e50ba7",
   "metadata": {
    "tags": []
   },
   "outputs": [
    {
     "data": {
      "text/plain": [
       "high    576\n",
       "med     574\n",
       "low     572\n",
       "?         2\n",
       "-         2\n",
       "*         1\n",
       "Name: Safety, dtype: int64"
      ]
     },
     "execution_count": 12,
     "metadata": {},
     "output_type": "execute_result"
    }
   ],
   "source": [
    "df['Safety'].value_counts()"
   ]
  },
  {
   "cell_type": "code",
   "execution_count": 13,
   "id": "c5986df9-c9ca-4cc3-aa89-2c4724e70c17",
   "metadata": {
    "tags": []
   },
   "outputs": [
    {
     "data": {
      "text/plain": [
       "high    576\n",
       "med     574\n",
       "low     572\n",
       "?         5\n",
       "Name: Safety, dtype: int64"
      ]
     },
     "execution_count": 13,
     "metadata": {},
     "output_type": "execute_result"
    }
   ],
   "source": [
    "df['Safety'] = df['Safety'].replace('-', '?')\n",
    "df['Safety'] = df['Safety'].replace('*', '?')\n",
    "df['Safety'].value_counts()"
   ]
  },
  {
   "cell_type": "code",
   "execution_count": 14,
   "id": "efa40c55-f417-47f8-9acb-daff8e98b73d",
   "metadata": {
    "scrolled": true,
    "tags": []
   },
   "outputs": [
    {
     "data": {
      "text/plain": [
       "unacc    1208\n",
       "acc       384\n",
       "good       69\n",
       "vgood      65\n",
       "?           2\n",
       "Name: Class, dtype: int64"
      ]
     },
     "execution_count": 14,
     "metadata": {},
     "output_type": "execute_result"
    }
   ],
   "source": [
    "df['Class'].value_counts()"
   ]
  },
  {
   "cell_type": "markdown",
   "id": "3cd1acdc",
   "metadata": {},
   "source": [
    "# NaN değerleri soru işaretleriyle dolduralım. Ve bilinmeyen veri sınıflarını kaldıralım"
   ]
  },
  {
   "cell_type": "code",
   "execution_count": 15,
   "id": "14fdfd23",
   "metadata": {},
   "outputs": [],
   "source": [
    "df=df.fillna('?')\n",
    "df=df[df['Class']!='?']"
   ]
  },
  {
   "cell_type": "markdown",
   "id": "d68b6fe2",
   "metadata": {},
   "source": [
    "# Train Test Split İşlemi"
   ]
  },
  {
   "cell_type": "code",
   "execution_count": 16,
   "id": "4d1dc9cb-e55a-4fff-8592-470ab4bc2d03",
   "metadata": {
    "tags": []
   },
   "outputs": [],
   "source": [
    "X = df.drop('Class', axis=1)\n",
    "y = df['Class']\n",
    "X_train, X_test, y_train, y_test = train_test_split(X, y, test_size=0.2, random_state=35)"
   ]
  },
  {
   "cell_type": "markdown",
   "id": "7639ec21",
   "metadata": {},
   "source": [
    "# Catboost'u varsayılan ayarlarda eğitelim. Peki neden Catboost? Çünkü verilerimizin çoğu kategorik veriler ve bilinmeyen ? değerleri ile uğraşmaya gerek kalmıyor"
   ]
  },
  {
   "cell_type": "code",
   "execution_count": 17,
   "id": "f9c00550-4754-42fa-9929-ed2c9a88d978",
   "metadata": {
    "tags": []
   },
   "outputs": [
    {
     "data": {
      "text/plain": [
       "<catboost.core.CatBoostClassifier at 0x13337bbb410>"
      ]
     },
     "execution_count": 17,
     "metadata": {},
     "output_type": "execute_result"
    }
   ],
   "source": [
    "categorical_columns_indices = list(X_train.select_dtypes(include='object').columns)\n",
    "vanilla_model = CatBoostClassifier(cat_features=categorical_columns_indices,random_seed=35,verbose=0)\n",
    "vanilla_model.fit(X_train, y_train)"
   ]
  },
  {
   "cell_type": "markdown",
   "id": "a4d9014b",
   "metadata": {},
   "source": [
    "# Başarı durumunu gözlemleyelim"
   ]
  },
  {
   "cell_type": "code",
   "execution_count": 18,
   "id": "7e52d4bf-c8f7-4e07-a729-512ca0c1dd87",
   "metadata": {
    "tags": []
   },
   "outputs": [
    {
     "name": "stdout",
     "output_type": "stream",
     "text": [
      "              precision    recall  f1-score   support\n",
      "\n",
      "         acc       1.00      0.91      0.95        78\n",
      "        good       0.90      1.00      0.95        18\n",
      "       unacc       0.97      1.00      0.99       233\n",
      "       vgood       1.00      0.94      0.97        17\n",
      "\n",
      "    accuracy                           0.98       346\n",
      "   macro avg       0.97      0.96      0.96       346\n",
      "weighted avg       0.98      0.98      0.98       346\n",
      "\n"
     ]
    }
   ],
   "source": [
    "from sklearn.metrics import classification_report, accuracy_score, confusion_matrix\n",
    "y_pred=vanilla_model.predict(X_test)\n",
    "print(classification_report(y_pred,y_test))"
   ]
  },
  {
   "cell_type": "markdown",
   "id": "85c4063c",
   "metadata": {},
   "source": [
    "## Acc ve Unacc arası hata en önemli hata tipi. Bu hatayı daha da azaltmak için RandomSearch ile optimize edebiliriz"
   ]
  },
  {
   "cell_type": "code",
   "execution_count": 19,
   "id": "38b2fbb1-2f76-4521-b52c-b322fe4b665f",
   "metadata": {
    "tags": []
   },
   "outputs": [
    {
     "data": {
      "text/plain": [
       "array([[ 71,   1,   6,   0],\n",
       "       [  0,  18,   0,   0],\n",
       "       [  0,   0, 233,   0],\n",
       "       [  0,   1,   0,  16]], dtype=int64)"
      ]
     },
     "execution_count": 19,
     "metadata": {},
     "output_type": "execute_result"
    }
   ],
   "source": [
    "confusion_matrix(y_pred, y_test)"
   ]
  },
  {
   "cell_type": "markdown",
   "id": "9a2ad7f6",
   "metadata": {},
   "source": [
    "# Parametre aralıklarını belirleyelim"
   ]
  },
  {
   "cell_type": "code",
   "execution_count": 20,
   "id": "d4f4fd08",
   "metadata": {},
   "outputs": [],
   "source": [
    "param_dist = {\n",
    "    'iterations': np.arange(100, 1000, 50),\n",
    "    'learning_rate': np.logspace(-3, 0, 100),\n",
    "    'depth': np.arange(3, 11, 2),\n",
    "    'l2_leaf_reg': np.logspace(-20, 1, 100),\n",
    "}"
   ]
  },
  {
   "cell_type": "markdown",
   "id": "6d953961",
   "metadata": {},
   "source": [
    "# Random search parametrelerini atayalım ve biraz uzun bir optimizasyona başlayalım"
   ]
  },
  {
   "cell_type": "code",
   "execution_count": 21,
   "id": "57212046",
   "metadata": {},
   "outputs": [],
   "source": [
    "model = CatBoostClassifier(cat_features=categorical_columns_indices,random_seed=53,verbose=0)\n",
    "random_search = RandomizedSearchCV(\n",
    "    model, \n",
    "    param_distributions=param_dist,\n",
    "    n_iter=50,\n",
    "    cv=4,\n",
    "    verbose=1,\n",
    "    n_jobs=-1\n",
    ")"
   ]
  },
  {
   "cell_type": "code",
   "execution_count": 22,
   "id": "6dd0a049",
   "metadata": {},
   "outputs": [
    {
     "name": "stdout",
     "output_type": "stream",
     "text": [
      "Fitting 4 folds for each of 50 candidates, totalling 200 fits\n"
     ]
    },
    {
     "data": {
      "text/html": [
       "<style>#sk-container-id-1 {color: black;background-color: white;}#sk-container-id-1 pre{padding: 0;}#sk-container-id-1 div.sk-toggleable {background-color: white;}#sk-container-id-1 label.sk-toggleable__label {cursor: pointer;display: block;width: 100%;margin-bottom: 0;padding: 0.3em;box-sizing: border-box;text-align: center;}#sk-container-id-1 label.sk-toggleable__label-arrow:before {content: \"▸\";float: left;margin-right: 0.25em;color: #696969;}#sk-container-id-1 label.sk-toggleable__label-arrow:hover:before {color: black;}#sk-container-id-1 div.sk-estimator:hover label.sk-toggleable__label-arrow:before {color: black;}#sk-container-id-1 div.sk-toggleable__content {max-height: 0;max-width: 0;overflow: hidden;text-align: left;background-color: #f0f8ff;}#sk-container-id-1 div.sk-toggleable__content pre {margin: 0.2em;color: black;border-radius: 0.25em;background-color: #f0f8ff;}#sk-container-id-1 input.sk-toggleable__control:checked~div.sk-toggleable__content {max-height: 200px;max-width: 100%;overflow: auto;}#sk-container-id-1 input.sk-toggleable__control:checked~label.sk-toggleable__label-arrow:before {content: \"▾\";}#sk-container-id-1 div.sk-estimator input.sk-toggleable__control:checked~label.sk-toggleable__label {background-color: #d4ebff;}#sk-container-id-1 div.sk-label input.sk-toggleable__control:checked~label.sk-toggleable__label {background-color: #d4ebff;}#sk-container-id-1 input.sk-hidden--visually {border: 0;clip: rect(1px 1px 1px 1px);clip: rect(1px, 1px, 1px, 1px);height: 1px;margin: -1px;overflow: hidden;padding: 0;position: absolute;width: 1px;}#sk-container-id-1 div.sk-estimator {font-family: monospace;background-color: #f0f8ff;border: 1px dotted black;border-radius: 0.25em;box-sizing: border-box;margin-bottom: 0.5em;}#sk-container-id-1 div.sk-estimator:hover {background-color: #d4ebff;}#sk-container-id-1 div.sk-parallel-item::after {content: \"\";width: 100%;border-bottom: 1px solid gray;flex-grow: 1;}#sk-container-id-1 div.sk-label:hover label.sk-toggleable__label {background-color: #d4ebff;}#sk-container-id-1 div.sk-serial::before {content: \"\";position: absolute;border-left: 1px solid gray;box-sizing: border-box;top: 0;bottom: 0;left: 50%;z-index: 0;}#sk-container-id-1 div.sk-serial {display: flex;flex-direction: column;align-items: center;background-color: white;padding-right: 0.2em;padding-left: 0.2em;position: relative;}#sk-container-id-1 div.sk-item {position: relative;z-index: 1;}#sk-container-id-1 div.sk-parallel {display: flex;align-items: stretch;justify-content: center;background-color: white;position: relative;}#sk-container-id-1 div.sk-item::before, #sk-container-id-1 div.sk-parallel-item::before {content: \"\";position: absolute;border-left: 1px solid gray;box-sizing: border-box;top: 0;bottom: 0;left: 50%;z-index: -1;}#sk-container-id-1 div.sk-parallel-item {display: flex;flex-direction: column;z-index: 1;position: relative;background-color: white;}#sk-container-id-1 div.sk-parallel-item:first-child::after {align-self: flex-end;width: 50%;}#sk-container-id-1 div.sk-parallel-item:last-child::after {align-self: flex-start;width: 50%;}#sk-container-id-1 div.sk-parallel-item:only-child::after {width: 0;}#sk-container-id-1 div.sk-dashed-wrapped {border: 1px dashed gray;margin: 0 0.4em 0.5em 0.4em;box-sizing: border-box;padding-bottom: 0.4em;background-color: white;}#sk-container-id-1 div.sk-label label {font-family: monospace;font-weight: bold;display: inline-block;line-height: 1.2em;}#sk-container-id-1 div.sk-label-container {text-align: center;}#sk-container-id-1 div.sk-container {/* jupyter's `normalize.less` sets `[hidden] { display: none; }` but bootstrap.min.css set `[hidden] { display: none !important; }` so we also need the `!important` here to be able to override the default hidden behavior on the sphinx rendered scikit-learn.org. See: https://github.com/scikit-learn/scikit-learn/issues/21755 */display: inline-block !important;position: relative;}#sk-container-id-1 div.sk-text-repr-fallback {display: none;}</style><div id=\"sk-container-id-1\" class=\"sk-top-container\"><div class=\"sk-text-repr-fallback\"><pre>RandomizedSearchCV(cv=4,\n",
       "                   estimator=&lt;catboost.core.CatBoostClassifier object at 0x0000013337BAE990&gt;,\n",
       "                   n_iter=50, n_jobs=-1,\n",
       "                   param_distributions={&#x27;depth&#x27;: array([3, 5, 7, 9]),\n",
       "                                        &#x27;iterations&#x27;: array([100, 150, 200, 250, 300, 350, 400, 450, 500, 550, 600, 650, 700,\n",
       "       750, 800, 850, 900, 950]),\n",
       "                                        &#x27;l2_leaf_reg&#x27;: array([1.00000000e-20, 1.62975083e-20, 2.65608778e-20, 4.32876128e-20,\n",
       "       7.05480231e-20...\n",
       "       0.09326033, 0.1       , 0.10722672, 0.1149757 , 0.12328467,\n",
       "       0.13219411, 0.14174742, 0.15199111, 0.16297508, 0.17475284,\n",
       "       0.18738174, 0.2009233 , 0.21544347, 0.23101297, 0.24770764,\n",
       "       0.26560878, 0.28480359, 0.30538555, 0.32745492, 0.35111917,\n",
       "       0.37649358, 0.40370173, 0.43287613, 0.46415888, 0.49770236,\n",
       "       0.53366992, 0.57223677, 0.61359073, 0.65793322, 0.70548023,\n",
       "       0.75646333, 0.81113083, 0.869749  , 0.93260335, 1.        ])},\n",
       "                   verbose=1)</pre><b>In a Jupyter environment, please rerun this cell to show the HTML representation or trust the notebook. <br />On GitHub, the HTML representation is unable to render, please try loading this page with nbviewer.org.</b></div><div class=\"sk-container\" hidden><div class=\"sk-item sk-dashed-wrapped\"><div class=\"sk-label-container\"><div class=\"sk-label sk-toggleable\"><input class=\"sk-toggleable__control sk-hidden--visually\" id=\"sk-estimator-id-1\" type=\"checkbox\" ><label for=\"sk-estimator-id-1\" class=\"sk-toggleable__label sk-toggleable__label-arrow\">RandomizedSearchCV</label><div class=\"sk-toggleable__content\"><pre>RandomizedSearchCV(cv=4,\n",
       "                   estimator=&lt;catboost.core.CatBoostClassifier object at 0x0000013337BAE990&gt;,\n",
       "                   n_iter=50, n_jobs=-1,\n",
       "                   param_distributions={&#x27;depth&#x27;: array([3, 5, 7, 9]),\n",
       "                                        &#x27;iterations&#x27;: array([100, 150, 200, 250, 300, 350, 400, 450, 500, 550, 600, 650, 700,\n",
       "       750, 800, 850, 900, 950]),\n",
       "                                        &#x27;l2_leaf_reg&#x27;: array([1.00000000e-20, 1.62975083e-20, 2.65608778e-20, 4.32876128e-20,\n",
       "       7.05480231e-20...\n",
       "       0.09326033, 0.1       , 0.10722672, 0.1149757 , 0.12328467,\n",
       "       0.13219411, 0.14174742, 0.15199111, 0.16297508, 0.17475284,\n",
       "       0.18738174, 0.2009233 , 0.21544347, 0.23101297, 0.24770764,\n",
       "       0.26560878, 0.28480359, 0.30538555, 0.32745492, 0.35111917,\n",
       "       0.37649358, 0.40370173, 0.43287613, 0.46415888, 0.49770236,\n",
       "       0.53366992, 0.57223677, 0.61359073, 0.65793322, 0.70548023,\n",
       "       0.75646333, 0.81113083, 0.869749  , 0.93260335, 1.        ])},\n",
       "                   verbose=1)</pre></div></div></div><div class=\"sk-parallel\"><div class=\"sk-parallel-item\"><div class=\"sk-item\"><div class=\"sk-label-container\"><div class=\"sk-label sk-toggleable\"><input class=\"sk-toggleable__control sk-hidden--visually\" id=\"sk-estimator-id-2\" type=\"checkbox\" ><label for=\"sk-estimator-id-2\" class=\"sk-toggleable__label sk-toggleable__label-arrow\">estimator: CatBoostClassifier</label><div class=\"sk-toggleable__content\"><pre>&lt;catboost.core.CatBoostClassifier object at 0x0000013337BAE990&gt;</pre></div></div></div><div class=\"sk-serial\"><div class=\"sk-item\"><div class=\"sk-estimator sk-toggleable\"><input class=\"sk-toggleable__control sk-hidden--visually\" id=\"sk-estimator-id-3\" type=\"checkbox\" ><label for=\"sk-estimator-id-3\" class=\"sk-toggleable__label sk-toggleable__label-arrow\">CatBoostClassifier</label><div class=\"sk-toggleable__content\"><pre>&lt;catboost.core.CatBoostClassifier object at 0x0000013337BAE990&gt;</pre></div></div></div></div></div></div></div></div></div></div>"
      ],
      "text/plain": [
       "RandomizedSearchCV(cv=4,\n",
       "                   estimator=<catboost.core.CatBoostClassifier object at 0x0000013337BAE990>,\n",
       "                   n_iter=50, n_jobs=-1,\n",
       "                   param_distributions={'depth': array([3, 5, 7, 9]),\n",
       "                                        'iterations': array([100, 150, 200, 250, 300, 350, 400, 450, 500, 550, 600, 650, 700,\n",
       "       750, 800, 850, 900, 950]),\n",
       "                                        'l2_leaf_reg': array([1.00000000e-20, 1.62975083e-20, 2.65608778e-20, 4.32876128e-20,\n",
       "       7.05480231e-20...\n",
       "       0.09326033, 0.1       , 0.10722672, 0.1149757 , 0.12328467,\n",
       "       0.13219411, 0.14174742, 0.15199111, 0.16297508, 0.17475284,\n",
       "       0.18738174, 0.2009233 , 0.21544347, 0.23101297, 0.24770764,\n",
       "       0.26560878, 0.28480359, 0.30538555, 0.32745492, 0.35111917,\n",
       "       0.37649358, 0.40370173, 0.43287613, 0.46415888, 0.49770236,\n",
       "       0.53366992, 0.57223677, 0.61359073, 0.65793322, 0.70548023,\n",
       "       0.75646333, 0.81113083, 0.869749  , 0.93260335, 1.        ])},\n",
       "                   verbose=1)"
      ]
     },
     "execution_count": 22,
     "metadata": {},
     "output_type": "execute_result"
    }
   ],
   "source": [
    "random_search.fit(X_train, y_train)"
   ]
  },
  {
   "cell_type": "markdown",
   "id": "21edb1a0",
   "metadata": {},
   "source": [
    "# En iyi parametreleri öğrenelim ve başarı durumunu gözlemleyelim"
   ]
  },
  {
   "cell_type": "code",
   "execution_count": 23,
   "id": "fe7d40e6",
   "metadata": {},
   "outputs": [
    {
     "name": "stdout",
     "output_type": "stream",
     "text": [
      "              precision    recall  f1-score   support\n",
      "\n",
      "         acc       1.00      1.00      1.00        71\n",
      "        good       0.90      1.00      0.95        18\n",
      "       unacc       1.00      1.00      1.00       239\n",
      "       vgood       1.00      0.89      0.94        18\n",
      "\n",
      "    accuracy                           0.99       346\n",
      "   macro avg       0.97      0.97      0.97       346\n",
      "weighted avg       0.99      0.99      0.99       346\n",
      "\n",
      "Best Parameters: {'learning_rate': 0.05722367659350217, 'l2_leaf_reg': 8.111308307896889e-12, 'iterations': 950, 'depth': 5}\n"
     ]
    }
   ],
   "source": [
    "best_params = random_search.best_params_\n",
    "best_model = random_search.best_estimator_\n",
    "\n",
    "y_pred = best_model.predict(X_test)\n",
    "print(classification_report(y_pred,y_test))\n",
    "print(\"Best Parameters:\", best_params)"
   ]
  },
  {
   "cell_type": "markdown",
   "id": "060d990e",
   "metadata": {},
   "source": [
    "# Yeni modelimiz kötü adayları ve kabul edilebilir adayları daha güzel ayırıyor. Çok iyi ve iyi adaylar arasında hata yapsa da kötü adaylar ve kabul edilebilir adaylar arası yapılan hata kadar kritik bir hata değil"
   ]
  },
  {
   "cell_type": "code",
   "execution_count": 24,
   "id": "9de0867a",
   "metadata": {},
   "outputs": [
    {
     "data": {
      "text/plain": [
       "array([[ 71,   0,   0,   0],\n",
       "       [  0,  18,   0,   0],\n",
       "       [  0,   0, 239,   0],\n",
       "       [  0,   2,   0,  16]], dtype=int64)"
      ]
     },
     "execution_count": 24,
     "metadata": {},
     "output_type": "execute_result"
    }
   ],
   "source": [
    "confusion_matrix(y_pred, y_test)"
   ]
  },
  {
   "cell_type": "code",
   "execution_count": 25,
   "id": "475e2b5e",
   "metadata": {},
   "outputs": [
    {
     "data": {
      "text/plain": [
       "['catboost_model.sav']"
      ]
     },
     "execution_count": 25,
     "metadata": {},
     "output_type": "execute_result"
    }
   ],
   "source": [
    "filename='catboost_model.sav'\n",
    "joblib.dump(best_model,filename)"
   ]
  }
 ],
 "metadata": {
  "kernelspec": {
   "display_name": "Python 3 (ipykernel)",
   "language": "python",
   "name": "python3"
  },
  "language_info": {
   "codemirror_mode": {
    "name": "ipython",
    "version": 3
   },
   "file_extension": ".py",
   "mimetype": "text/x-python",
   "name": "python",
   "nbconvert_exporter": "python",
   "pygments_lexer": "ipython3",
   "version": "3.11.3"
  }
 },
 "nbformat": 4,
 "nbformat_minor": 5
}
